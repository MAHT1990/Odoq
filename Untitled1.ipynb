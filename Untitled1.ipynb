{
 "cells": [
  {
   "cell_type": "markdown",
   "id": "27aab244",
   "metadata": {},
   "source": [
    "# Pagination"
   ]
  },
  {
   "cell_type": "code",
   "execution_count": 2,
   "id": "243147fb",
   "metadata": {
    "ExecuteTime": {
     "end_time": "2022-08-13T15:20:32.538664Z",
     "start_time": "2022-08-13T15:20:31.417647Z"
    }
   },
   "outputs": [],
   "source": [
    "import os\n",
    "os.environ['DJANGO_SETTINGS_MODULE'] = \"Odoq.settings\"\n",
    "os.environ['DJANGO_ALLOW_ASYNC_UNSAFE'] = \"true\"\n",
    "\n",
    "import django\n",
    "django.setup()"
   ]
  },
  {
   "cell_type": "code",
   "execution_count": 10,
   "id": "d23cc74a",
   "metadata": {
    "ExecuteTime": {
     "end_time": "2022-08-13T15:54:57.324505Z",
     "start_time": "2022-08-13T15:54:57.310493Z"
    }
   },
   "outputs": [],
   "source": [
    "from django.core.paginator import Paginator, Page\n",
    "from main.models import Comment"
   ]
  },
  {
   "cell_type": "code",
   "execution_count": 20,
   "id": "93b6a2a4",
   "metadata": {
    "ExecuteTime": {
     "end_time": "2022-08-13T16:16:14.908169Z",
     "start_time": "2022-08-13T16:16:14.902162Z"
    }
   },
   "outputs": [
    {
     "name": "stdout",
     "output_type": "stream",
     "text": [
      "22\n"
     ]
    }
   ],
   "source": [
    "comment_list = Comment.objects.all()\n",
    "print(len(comment_list))"
   ]
  },
  {
   "cell_type": "markdown",
   "id": "a76a09f8",
   "metadata": {},
   "source": [
    "# Construct Paginator"
   ]
  },
  {
   "cell_type": "code",
   "execution_count": 12,
   "id": "0da21e47",
   "metadata": {
    "ExecuteTime": {
     "end_time": "2022-08-13T15:54:58.451529Z",
     "start_time": "2022-08-13T15:54:58.446524Z"
    }
   },
   "outputs": [],
   "source": [
    "comment_paginator = Paginator(comment_list, 5)"
   ]
  },
  {
   "cell_type": "code",
   "execution_count": 13,
   "id": "c446dc19",
   "metadata": {
    "ExecuteTime": {
     "end_time": "2022-08-13T15:54:58.903939Z",
     "start_time": "2022-08-13T15:54:58.870910Z"
    }
   },
   "outputs": [
    {
     "name": "stdout",
     "output_type": "stream",
     "text": [
      "<Page 1 of 5>\n",
      "Comment object (31)\n",
      "Comment object (30)\n",
      "Comment object (29)\n",
      "Comment object (28)\n",
      "Comment object (27)\n",
      "<Page 2 of 5>\n",
      "Comment object (26)\n",
      "Comment object (25)\n",
      "Comment object (24)\n",
      "Comment object (23)\n",
      "Comment object (22)\n",
      "<Page 3 of 5>\n",
      "Comment object (21)\n",
      "Comment object (20)\n",
      "Comment object (19)\n",
      "Comment object (18)\n",
      "Comment object (17)\n",
      "<Page 4 of 5>\n",
      "Comment object (16)\n",
      "Comment object (15)\n",
      "Comment object (14)\n",
      "Comment object (13)\n",
      "Comment object (12)\n",
      "<Page 5 of 5>\n",
      "Comment object (11)\n",
      "Comment object (8)\n"
     ]
    }
   ],
   "source": [
    "for page in comment_paginator:\n",
    "    print(page)\n",
    "    for comment in page:\n",
    "        print(comment) #page_object도 iterable이다."
   ]
  },
  {
   "cell_type": "code",
   "execution_count": 19,
   "id": "8f5c30c4",
   "metadata": {
    "ExecuteTime": {
     "end_time": "2022-08-13T16:12:02.805394Z",
     "start_time": "2022-08-13T16:12:02.782374Z"
    }
   },
   "outputs": [
    {
     "name": "stdout",
     "output_type": "stream",
     "text": [
      "Comment object (31)\n",
      "Comment object (30)\n",
      "Comment object (29)\n",
      "Comment object (28)\n",
      "Comment object (27)\n",
      "Comment object (26)\n",
      "Comment object (25)\n",
      "Comment object (24)\n",
      "Comment object (23)\n",
      "Comment object (22)\n",
      "Comment object (21)\n",
      "Comment object (20)\n",
      "Comment object (19)\n",
      "Comment object (18)\n",
      "Comment object (17)\n",
      "Comment object (16)\n",
      "Comment object (15)\n",
      "Comment object (14)\n",
      "Comment object (13)\n",
      "Comment object (12)\n",
      "Comment object (11)\n",
      "Comment object (8)\n"
     ]
    }
   ],
   "source": [
    "paginator = Paginator(comment_list, 2)\n",
    "page = Page(comment_list, 1, paginator)\n",
    "\n",
    "for comment in page:\n",
    "    print(comment)"
   ]
  },
  {
   "cell_type": "code",
   "execution_count": null,
   "id": "1788e57d",
   "metadata": {},
   "outputs": [],
   "source": []
  }
 ],
 "metadata": {
  "hide_input": false,
  "kernelspec": {
   "display_name": "Python 3 (ipykernel)",
   "language": "python",
   "name": "python3"
  },
  "language_info": {
   "codemirror_mode": {
    "name": "ipython",
    "version": 3
   },
   "file_extension": ".py",
   "mimetype": "text/x-python",
   "name": "python",
   "nbconvert_exporter": "python",
   "pygments_lexer": "ipython3",
   "version": "3.7.9"
  },
  "latex_envs": {
   "LaTeX_envs_menu_present": true,
   "autoclose": false,
   "autocomplete": true,
   "bibliofile": "biblio.bib",
   "cite_by": "apalike",
   "current_citInitial": 1,
   "eqLabelWithNumbers": true,
   "eqNumInitial": 1,
   "hotkeys": {
    "equation": "Ctrl-E",
    "itemize": "Ctrl-I"
   },
   "labels_anchors": false,
   "latex_user_defs": false,
   "report_style_numbering": false,
   "user_envs_cfg": false
  },
  "toc": {
   "base_numbering": 1,
   "nav_menu": {},
   "number_sections": true,
   "sideBar": true,
   "skip_h1_title": false,
   "title_cell": "Table of Contents",
   "title_sidebar": "Contents",
   "toc_cell": false,
   "toc_position": {},
   "toc_section_display": true,
   "toc_window_display": false
  }
 },
 "nbformat": 4,
 "nbformat_minor": 5
}
