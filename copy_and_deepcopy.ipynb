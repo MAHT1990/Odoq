{
 "cells": [
  {
   "cell_type": "markdown",
   "id": "c2824526",
   "metadata": {},
   "source": [
    "# copy()와 deepcopy()"
   ]
  },
  {
   "cell_type": "code",
   "execution_count": 2,
   "id": "9c18cbc3",
   "metadata": {
    "ExecuteTime": {
     "end_time": "2022-08-15T15:54:21.490935Z",
     "start_time": "2022-08-15T15:54:21.481927Z"
    }
   },
   "outputs": [],
   "source": [
    "import copy"
   ]
  },
  {
   "cell_type": "markdown",
   "id": "fed168b5",
   "metadata": {},
   "source": [
    "## copy()와 1d array"
   ]
  },
  {
   "cell_type": "code",
   "execution_count": 4,
   "id": "fb59aa11",
   "metadata": {
    "ExecuteTime": {
     "end_time": "2022-08-15T15:56:46.374125Z",
     "start_time": "2022-08-15T15:56:46.369120Z"
    }
   },
   "outputs": [
    {
     "name": "stdout",
     "output_type": "stream",
     "text": [
      "[1, 2]\n",
      "[999, 2]\n"
     ]
    }
   ],
   "source": [
    "origin = [1, 2]\n",
    "copy_list = origin.copy()\n",
    "\n",
    "copy_list[0] = 999\n",
    "\n",
    "print(origin)\n",
    "print(copy_list)"
   ]
  },
  {
   "cell_type": "markdown",
   "id": "eedf36c0",
   "metadata": {},
   "source": [
    "## deepcopy()와 2d array"
   ]
  },
  {
   "cell_type": "code",
   "execution_count": 6,
   "id": "e62147f5",
   "metadata": {
    "ExecuteTime": {
     "end_time": "2022-08-15T15:58:27.434862Z",
     "start_time": "2022-08-15T15:58:27.417846Z"
    }
   },
   "outputs": [
    {
     "name": "stdout",
     "output_type": "stream",
     "text": [
      "[[1, 4, 3], [10, 20, 30]]\n",
      "[[1, 4, 3], [10, 20, 30]]\n"
     ]
    }
   ],
   "source": [
    "origin = [\n",
    "    [1,2,3],\n",
    "    [10,20,30],\n",
    "]\n",
    "\n",
    "shallow_copy_list = origin.copy()\n",
    "\n",
    "shallow_copy_list[0][1] = 4\n",
    "\n",
    "print(origin)\n",
    "print(shallow_copy_list)"
   ]
  },
  {
   "cell_type": "code",
   "execution_count": 8,
   "id": "e50601b1",
   "metadata": {
    "ExecuteTime": {
     "end_time": "2022-08-15T16:01:09.554950Z",
     "start_time": "2022-08-15T16:01:09.544940Z"
    }
   },
   "outputs": [
    {
     "name": "stdout",
     "output_type": "stream",
     "text": [
      "[[1, 4, 3], [10, 20, 30]]\n",
      "[[1, 400, 3], [10, 20, 30]]\n"
     ]
    }
   ],
   "source": [
    "deep_copy_list = copy.deepcopy(origin)\n",
    "\n",
    "deep_copy_list[0][1] = 400\n",
    "\n",
    "print(origin)\n",
    "print(deep_copy_list)"
   ]
  },
  {
   "cell_type": "code",
   "execution_count": null,
   "id": "c69680d1",
   "metadata": {},
   "outputs": [],
   "source": []
  }
 ],
 "metadata": {
  "hide_input": false,
  "kernelspec": {
   "display_name": "Python 3 (ipykernel)",
   "language": "python",
   "name": "python3"
  },
  "language_info": {
   "codemirror_mode": {
    "name": "ipython",
    "version": 3
   },
   "file_extension": ".py",
   "mimetype": "text/x-python",
   "name": "python",
   "nbconvert_exporter": "python",
   "pygments_lexer": "ipython3",
   "version": "3.7.9"
  },
  "latex_envs": {
   "LaTeX_envs_menu_present": true,
   "autoclose": false,
   "autocomplete": true,
   "bibliofile": "biblio.bib",
   "cite_by": "apalike",
   "current_citInitial": 1,
   "eqLabelWithNumbers": true,
   "eqNumInitial": 1,
   "hotkeys": {
    "equation": "Ctrl-E",
    "itemize": "Ctrl-I"
   },
   "labels_anchors": false,
   "latex_user_defs": false,
   "report_style_numbering": false,
   "user_envs_cfg": false
  },
  "toc": {
   "base_numbering": 1,
   "nav_menu": {},
   "number_sections": true,
   "sideBar": true,
   "skip_h1_title": false,
   "title_cell": "Table of Contents",
   "title_sidebar": "Contents",
   "toc_cell": false,
   "toc_position": {},
   "toc_section_display": true,
   "toc_window_display": false
  }
 },
 "nbformat": 4,
 "nbformat_minor": 5
}
