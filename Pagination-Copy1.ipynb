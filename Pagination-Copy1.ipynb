{
 "cells": [
  {
   "cell_type": "markdown",
   "id": "27aab244",
   "metadata": {},
   "source": [
    "# DeclarativefieldsMetaclass"
   ]
  },
  {
   "cell_type": "code",
   "execution_count": 6,
   "id": "243147fb",
   "metadata": {
    "ExecuteTime": {
     "end_time": "2022-08-16T16:22:29.180136Z",
     "start_time": "2022-08-16T16:22:28.898881Z"
    }
   },
   "outputs": [],
   "source": [
    "import os\n",
    "os.environ['DJANGO_SETTINGS_MODULE'] = \"Odoq.settings\"\n",
    "os.environ['DJANGO_ALLOW_ASYNC_UNSAFE'] = \"true\"\n",
    "\n",
    "import django\n",
    "django.setup()"
   ]
  },
  {
   "cell_type": "code",
   "execution_count": 28,
   "id": "1788e57d",
   "metadata": {
    "ExecuteTime": {
     "end_time": "2022-08-16T16:32:01.548017Z",
     "start_time": "2022-08-16T16:32:01.539008Z"
    }
   },
   "outputs": [],
   "source": [
    "from django import forms"
   ]
  },
  {
   "cell_type": "code",
   "execution_count": 29,
   "id": "69ad19e6",
   "metadata": {
    "ExecuteTime": {
     "end_time": "2022-08-16T16:32:15.371596Z",
     "start_time": "2022-08-16T16:32:15.361586Z"
    }
   },
   "outputs": [],
   "source": [
    "class CommentForm(forms.Form):\n",
    "\tname = forms.CharField(initial='class')\n",
    "\turl = forms.URLField()\n",
    "\tcomment = forms.CharField()"
   ]
  },
  {
   "cell_type": "code",
   "execution_count": 33,
   "id": "56a8d06b",
   "metadata": {
    "ExecuteTime": {
     "end_time": "2022-08-16T16:35:46.023081Z",
     "start_time": "2022-08-16T16:35:46.001061Z"
    }
   },
   "outputs": [
    {
     "name": "stdout",
     "output_type": "stream",
     "text": [
      "<tr><th><label for=\"id_name\">Name:</label></th><td><input type=\"text\" name=\"name\" value=\"Grrrrrrrrrrah\" required id=\"id_name\"></td></tr>\n",
      "<tr><th><label for=\"id_url\">Url:</label></th><td><input type=\"url\" name=\"url\" required id=\"id_url\"></td></tr>\n",
      "<tr><th><label for=\"id_comment\">Comment:</label></th><td><input type=\"text\" name=\"comment\" required id=\"id_comment\"></td></tr>\n"
     ]
    }
   ],
   "source": [
    "f = CommentForm(initial = {'name' : 'Grrrrrrrrrrah'})\n",
    "print(f)"
   ]
  },
  {
   "cell_type": "code",
   "execution_count": 34,
   "id": "410ecf7e",
   "metadata": {
    "ExecuteTime": {
     "end_time": "2022-08-16T16:35:57.960077Z",
     "start_time": "2022-08-16T16:35:57.937056Z"
    }
   },
   "outputs": [
    {
     "name": "stdout",
     "output_type": "stream",
     "text": [
      "<tr><th>Name:</th><td><input type=\"text\" name=\"name\" value=\"class\" required></td></tr>\n",
      "<tr><th>Url:</th><td><input type=\"url\" name=\"url\" required></td></tr>\n",
      "<tr><th>Comment:</th><td><input type=\"text\" name=\"comment\" required></td></tr>\n"
     ]
    }
   ],
   "source": [
    "f = CommentForm(auto_id = False)\n",
    "\n",
    "print(f)"
   ]
  },
  {
   "cell_type": "code",
   "execution_count": 36,
   "id": "7546c9b4",
   "metadata": {
    "ExecuteTime": {
     "end_time": "2022-08-16T16:37:38.851257Z",
     "start_time": "2022-08-16T16:37:38.841248Z"
    }
   },
   "outputs": [
    {
     "name": "stdout",
     "output_type": "stream",
     "text": [
      "<tr><th><label for=\"id is super name\">Name:</label></th><td><input type=\"text\" name=\"name\" value=\"class\" required id=\"id is super name\"></td></tr>\n",
      "<tr><th><label for=\"id is super url\">Url:</label></th><td><input type=\"url\" name=\"url\" required id=\"id is super url\"></td></tr>\n",
      "<tr><th><label for=\"id is super comment\">Comment:</label></th><td><input type=\"text\" name=\"comment\" required id=\"id is super comment\"></td></tr>\n"
     ]
    }
   ],
   "source": [
    "f = CommentForm(auto_id=\"id is super %s\")\n",
    "print(f)"
   ]
  },
  {
   "cell_type": "code",
   "execution_count": 37,
   "id": "9f88d1d1",
   "metadata": {
    "ExecuteTime": {
     "end_time": "2022-08-16T16:39:05.789438Z",
     "start_time": "2022-08-16T16:39:05.777428Z"
    }
   },
   "outputs": [
    {
     "name": "stdout",
     "output_type": "stream",
     "text": [
      "<tr><th><label for=\"id_name\">Name------------------</label></th><td><input type=\"text\" name=\"name\" value=\"class\" required id=\"id_name\"></td></tr>\n",
      "<tr><th><label for=\"id_url\">Url------------------</label></th><td><input type=\"url\" name=\"url\" required id=\"id_url\"></td></tr>\n",
      "<tr><th><label for=\"id_comment\">Comment------------------</label></th><td><input type=\"text\" name=\"comment\" required id=\"id_comment\"></td></tr>\n"
     ]
    }
   ],
   "source": [
    "f = CommentForm(label_suffix =  '------------------')\n",
    "print(f)"
   ]
  },
  {
   "cell_type": "code",
   "execution_count": 38,
   "id": "19e9560d",
   "metadata": {
    "ExecuteTime": {
     "end_time": "2022-08-16T16:49:52.413651Z",
     "start_time": "2022-08-16T16:49:52.392632Z"
    }
   },
   "outputs": [
    {
     "name": "stdout",
     "output_type": "stream",
     "text": [
      "<input type=\"text\" name=\"name\" value=\"class\" required id=\"id_name\">\n",
      "<input type=\"url\" name=\"url\" required id=\"id_url\">\n",
      "<input type=\"text\" name=\"comment\" required id=\"id_comment\">\n"
     ]
    }
   ],
   "source": [
    "for bf in f:print(bf)"
   ]
  },
  {
   "cell_type": "code",
   "execution_count": null,
   "id": "4cdabadc",
   "metadata": {},
   "outputs": [],
   "source": []
  }
 ],
 "metadata": {
  "hide_input": false,
  "kernelspec": {
   "display_name": "Python 3 (ipykernel)",
   "language": "python",
   "name": "python3"
  },
  "language_info": {
   "codemirror_mode": {
    "name": "ipython",
    "version": 3
   },
   "file_extension": ".py",
   "mimetype": "text/x-python",
   "name": "python",
   "nbconvert_exporter": "python",
   "pygments_lexer": "ipython3",
   "version": "3.7.9"
  },
  "latex_envs": {
   "LaTeX_envs_menu_present": true,
   "autoclose": false,
   "autocomplete": true,
   "bibliofile": "biblio.bib",
   "cite_by": "apalike",
   "current_citInitial": 1,
   "eqLabelWithNumbers": true,
   "eqNumInitial": 1,
   "hotkeys": {
    "equation": "Ctrl-E",
    "itemize": "Ctrl-I"
   },
   "labels_anchors": false,
   "latex_user_defs": false,
   "report_style_numbering": false,
   "user_envs_cfg": false
  },
  "toc": {
   "base_numbering": 1,
   "nav_menu": {},
   "number_sections": true,
   "sideBar": true,
   "skip_h1_title": false,
   "title_cell": "Table of Contents",
   "title_sidebar": "Contents",
   "toc_cell": false,
   "toc_position": {},
   "toc_section_display": true,
   "toc_window_display": false
  }
 },
 "nbformat": 4,
 "nbformat_minor": 5
}
