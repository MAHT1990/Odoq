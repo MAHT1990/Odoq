{
 "cells": [
  {
   "cell_type": "markdown",
   "id": "de7898fb",
   "metadata": {},
   "source": [
    "# Django Setting"
   ]
  },
  {
   "cell_type": "code",
   "execution_count": 2,
   "id": "38ba89d6",
   "metadata": {
    "ExecuteTime": {
     "end_time": "2022-08-14T20:12:18.132546Z",
     "start_time": "2022-08-14T20:12:17.842284Z"
    }
   },
   "outputs": [],
   "source": [
    "import os\n",
    "os.environ['DJANGO_SETTINGS_MODULE'] = \"Odoq.settings\"\n",
    "os.environ['DJANGO_ALLOW_ASYNC_UNSAFE'] = \"true\"\n",
    "\n",
    "import django\n",
    "django.setup()"
   ]
  },
  {
   "cell_type": "markdown",
   "id": "0a33b914",
   "metadata": {},
   "source": [
    "# Jupyter Setting"
   ]
  },
  {
   "cell_type": "code",
   "execution_count": 3,
   "id": "169c19d0",
   "metadata": {
    "ExecuteTime": {
     "end_time": "2022-08-14T20:12:18.327726Z",
     "start_time": "2022-08-14T20:12:18.315713Z"
    }
   },
   "outputs": [
    {
     "data": {
      "text/html": [
       "<style>container {width:95% !important;}</style>"
      ],
      "text/plain": [
       "<IPython.core.display.HTML object>"
      ]
     },
     "metadata": {},
     "output_type": "display_data"
    }
   ],
   "source": [
    "from IPython.core.display import display, HTML\n",
    "display(HTML(\"<style>container {width:95% !important;}</style>\"))"
   ]
  },
  {
   "cell_type": "code",
   "execution_count": 4,
   "id": "f4cb75ab",
   "metadata": {
    "ExecuteTime": {
     "end_time": "2022-08-14T20:12:18.612983Z",
     "start_time": "2022-08-14T20:12:18.602974Z"
    }
   },
   "outputs": [],
   "source": [
    "from main.models import Comment"
   ]
  },
  {
   "cell_type": "markdown",
   "id": "14950b2d",
   "metadata": {},
   "source": [
    "# Ordering By created_at"
   ]
  },
  {
   "cell_type": "code",
   "execution_count": 9,
   "id": "5988d36a",
   "metadata": {
    "ExecuteTime": {
     "end_time": "2022-08-14T20:14:22.444915Z",
     "start_time": "2022-08-14T20:14:22.379855Z"
    }
   },
   "outputs": [
    {
     "name": "stdout",
     "output_type": "stream",
     "text": [
      "오늘의 댓글 최신순을 업데이트하였다. 2022-08-11 17:13:34.814280+00:00\n",
      "우우우 2022-08-11 16:51:23.529685+00:00\n",
      "필터링 테스트를 위한 세번째 댓글입니다. 2022-08-11 16:50:42.375010+00:00\n",
      "필터링 테스트를 위한 두번째 테스트 댓글입니다. 2022-08-11 15:39:36.341642+00:00\n",
      "필터링 테스트를 위한 테스트 댓글입니다. 2022-08-11 15:38:33.002107+00:00\n",
      "대박 오늘 딱 지적받은거 물잡고 롤링이었는데 똭 뜨다니\n",
      "진조님 설명 너무 이해하기쉽고 좋아요 감사합니다👍👍👍🤗 2022-08-08 16:02:13.398024+00:00\n",
      "자유형 할때 뭔가 매끄럽지 못하고 끊기는 느낌이었는데 알려주신 포인트 상기하면서 다시 연습해 봐야 겠어요🔥👍👍 2022-08-08 16:01:40.247070+00:00\n",
      "코오롱 스포렉스는 왜케 장사가 잘되는거야\n",
      "파주에만 6개인가? 2022-08-08 16:00:56.767950+00:00\n",
      "👍👍👍👍👍👍👍 반갑습니다~!!  유용한 강의 감사합니다 🙌 2022-08-08 16:00:34.683886+00:00\n",
      "저의 문제는 웨이브가 안 되는 것이었군요..가슴 누르려고 노력했는데 앞으로 잘 안 나간다고 생각했어요 ㅋㅋ앞쪽으로 밀어보겠습니다\n",
      "+겨드랑이 펴고 밀기 꼭 기억할게요! 2022-08-08 16:00:27.583436+00:00\n",
      "손끝으로 웨이브 탄다고 해서 고치려는 중인데 때마침 영상이 올라왔네요🤣 내일 연습 해 보겠습니다!  손으로 웨이브 안 타려면 팔을 귀 옆에 붙이고 웨이브 연습하는게 가장 좋은 연습일까요? 혹 다른 연습 방법이 있을까요?🤔 2022-08-08 16:00:13.307465+00:00\n",
      "대박 자세한 설명\n",
      "너무 도움되요\n",
      "웨이브 어려워서 고민중아었거든요\n",
      "감사해요 2022-08-08 15:59:21.649124+00:00\n",
      "- django의  templates의 html페이지에서 page navigation를 간단히 만들 수 있습니다.\n",
      "1. Paginator 가져온다 ( from django.core.paginator import Paginator)\n",
      "2. 데이터를 가져온다.\n",
      "    room_list = models.Room.objects.all()\n",
      "3. 페이지 size를 세팅\n",
      "    paginator = Paginator(room_list, 페이지에 보여줄 사이즈)\n",
      "4. 페이지번호에 해당하는 데이터 조회\n",
      "    rooms = paginator.get_page(page)\n",
      "5. client 반환\n",
      "    return render(request, \"rooms/all_rooms.html\", {\"rooms\": rooms})\n",
      "출처: https://fenderist.tistory.com/374 [Devman:티스토리] 2022-08-08 15:58:40.480061+00:00\n",
      "구구단을 외자 2022-08-08 15:58:25.756684+00:00\n",
      "댓글 PAGENAVIGATION을 위해서 댓글을 마구마구 작성하고 있다. 2022-08-08 15:54:54.821824+00:00\n",
      "바쁘다 바쁘다 2022-08-08 15:46:26.117758+00:00\n",
      "할 일이 많다. 2022-08-08 15:46:19.597832+00:00\n",
      "ODOQ SEASON2 9월 12일 2022-08-08 15:46:13.775543+00:00\n",
      "댓글 테스트이다. 2022-08-08 15:45:59.383467+00:00\n",
      "12444 2022-08-04 15:21:53.441251+00:00\n",
      "asdfasdf 2022-08-01 16:47:45.241616+00:00\n",
      "ㅇㅇㅇㅇㅇㅇ 2022-08-01 16:28:08.290723+00:00\n",
      "-\n",
      "2022-08-11 17:13:34.814280+00:00\n",
      "2022-08-11 16:51:23.529685+00:00\n",
      "2022-08-11 16:50:42.375010+00:00\n",
      "2022-08-11 15:39:36.341642+00:00\n",
      "2022-08-11 15:38:33.002107+00:00\n",
      "2022-08-08 16:02:13.398024+00:00\n",
      "2022-08-08 16:01:40.247070+00:00\n",
      "2022-08-08 16:00:56.767950+00:00\n",
      "2022-08-08 16:00:34.683886+00:00\n",
      "2022-08-08 16:00:27.583436+00:00\n",
      "2022-08-08 16:00:13.307465+00:00\n",
      "2022-08-08 15:59:21.649124+00:00\n",
      "2022-08-08 15:58:40.480061+00:00\n",
      "2022-08-08 15:58:25.756684+00:00\n",
      "2022-08-08 15:54:54.821824+00:00\n",
      "2022-08-08 15:46:26.117758+00:00\n",
      "2022-08-08 15:46:19.597832+00:00\n",
      "2022-08-08 15:46:13.775543+00:00\n",
      "2022-08-08 15:45:59.383467+00:00\n",
      "2022-08-04 15:21:53.441251+00:00\n",
      "2022-08-01 16:47:45.241616+00:00\n",
      "2022-08-01 16:28:08.290723+00:00\n"
     ]
    }
   ],
   "source": [
    "comment_list = Comment.objects.all()\n",
    "comment_list_order_by_created_at = comment_list.order_by('-created_at')\n",
    "\n",
    "for comment in comment_list:\n",
    "    print(comment.content, comment.created_at)\n",
    "\n",
    "print('-')    \n",
    "    \n",
    "for comment in comment_list_order_by_created_at:\n",
    "    print(comment.created_at)\n"
   ]
  },
  {
   "cell_type": "markdown",
   "id": "e2ebbe43",
   "metadata": {},
   "source": [
    "# Ordering By like_count"
   ]
  },
  {
   "cell_type": "code",
   "execution_count": 9,
   "id": "48df0de0",
   "metadata": {
    "ExecuteTime": {
     "end_time": "2022-08-11T15:19:55.211947Z",
     "start_time": "2022-08-11T15:19:55.167906Z"
    }
   },
   "outputs": [
    {
     "name": "stdout",
     "output_type": "stream",
     "text": [
      "ㅇㅇㅇㅇㅇㅇ 1\n",
      "12444 1\n",
      "👍👍👍👍👍👍👍 반갑습니다~!!  유용한 강의 감사합니다 🙌 1\n",
      "자유형 할때 뭔가 매끄럽지 못하고 끊기는 느낌이었는데 알려주신 포인트 상기하면서 다시 연습해 봐야 겠어요🔥👍👍 1\n",
      "asdfasdf 0\n",
      "댓글 테스트이다. 0\n",
      "ODOQ SEASON2 9월 12일 0\n",
      "할 일이 많다. 0\n",
      "바쁘다 바쁘다 0\n",
      "댓글 PAGENAVIGATION을 위해서 댓글을 마구마구 작성하고 있다. 0\n",
      "구구단을 외자 0\n",
      "- django의  templates의 html페이지에서 page navigation를 간단히 만들 수 있습니다.\n",
      "1. Paginator 가져온다 ( from django.core.paginator import Paginator)\n",
      "2. 데이터를 가져온다.\n",
      "    room_list = models.Room.objects.all()\n",
      "3. 페이지 size를 세팅\n",
      "    paginator = Paginator(room_list, 페이지에 보여줄 사이즈)\n",
      "4. 페이지번호에 해당하는 데이터 조회\n",
      "    rooms = paginator.get_page(page)\n",
      "5. client 반환\n",
      "    return render(request, \"rooms/all_rooms.html\", {\"rooms\": rooms})\n",
      "출처: https://fenderist.tistory.com/374 [Devman:티스토리] 0\n",
      "대박 자세한 설명\n",
      "너무 도움되요\n",
      "웨이브 어려워서 고민중아었거든요\n",
      "감사해요 0\n",
      "손끝으로 웨이브 탄다고 해서 고치려는 중인데 때마침 영상이 올라왔네요🤣 내일 연습 해 보겠습니다!  손으로 웨이브 안 타려면 팔을 귀 옆에 붙이고 웨이브 연습하는게 가장 좋은 연습일까요? 혹 다른 연습 방법이 있을까요?🤔 0\n",
      "저의 문제는 웨이브가 안 되는 것이었군요..가슴 누르려고 노력했는데 앞으로 잘 안 나간다고 생각했어요 ㅋㅋ앞쪽으로 밀어보겠습니다\n",
      "+겨드랑이 펴고 밀기 꼭 기억할게요! 0\n",
      "코오롱 스포렉스는 왜케 장사가 잘되는거야\n",
      "파주에만 6개인가? 0\n",
      "대박 오늘 딱 지적받은거 물잡고 롤링이었는데 똭 뜨다니\n",
      "진조님 설명 너무 이해하기쉽고 좋아요 감사합니다👍👍👍🤗 0\n"
     ]
    }
   ],
   "source": [
    "comment_list = Comment.objects.all()\n",
    "comment_list_order_by_like_count = comment_list.order_by('-like_count')\n",
    "\n",
    "for comment in comment_list_order_by_like_count:\n",
    "    print(comment.content,comment.like_count)"
   ]
  },
  {
   "cell_type": "markdown",
   "id": "f199b39a",
   "metadata": {},
   "source": [
    "# Filtering(오늘 댓글 확인)"
   ]
  },
  {
   "cell_type": "markdown",
   "id": "c8915151",
   "metadata": {},
   "source": [
    "## datetime.date()"
   ]
  },
  {
   "cell_type": "code",
   "execution_count": 19,
   "id": "54a6b846",
   "metadata": {
    "ExecuteTime": {
     "end_time": "2022-08-11T15:34:48.297554Z",
     "start_time": "2022-08-11T15:34:48.288545Z"
    }
   },
   "outputs": [],
   "source": [
    "import datetime as dt"
   ]
  },
  {
   "cell_type": "code",
   "execution_count": 27,
   "id": "fe5e33c6",
   "metadata": {
    "ExecuteTime": {
     "end_time": "2022-08-11T15:36:22.172835Z",
     "start_time": "2022-08-11T15:36:22.159822Z"
    }
   },
   "outputs": [
    {
     "name": "stdout",
     "output_type": "stream",
     "text": [
      "2022-08-08\n",
      "<class 'datetime.date'>\n",
      "2022 8 12\n"
     ]
    },
    {
     "data": {
      "text/plain": [
       "12"
      ]
     },
     "execution_count": 27,
     "metadata": {},
     "output_type": "execute_result"
    }
   ],
   "source": [
    "sample_comment = comment_list.first()\n",
    "\n",
    "sample_comment_created_at = sample_comment.created_at\n",
    "print(sample_comment_created_at.date())\n",
    "print(type(sample_comment_created_at.date()))\n",
    "\n",
    "now = dt.datetime.now()\n",
    "print(now.year, now.month, now.day)"
   ]
  },
  {
   "cell_type": "markdown",
   "id": "2f857b70",
   "metadata": {},
   "source": [
    "## comment_list filtering"
   ]
  },
  {
   "cell_type": "code",
   "execution_count": 33,
   "id": "668359a3",
   "metadata": {
    "ExecuteTime": {
     "end_time": "2022-08-11T15:39:40.233177Z",
     "start_time": "2022-08-11T15:39:40.223168Z"
    }
   },
   "outputs": [
    {
     "name": "stdout",
     "output_type": "stream",
     "text": [
      "필터링 테스트를 위한 두번째 테스트 댓글입니다.\n",
      "필터링 테스트를 위한 테스트 댓글입니다.\n"
     ]
    }
   ],
   "source": [
    "comment_list_today = comment_list.filter(created_at__year = now.year,\n",
    "              created_at__month = now.month,\n",
    "              created_at__day = now.day)\n",
    "\n",
    "for comment in comment_list_today:\n",
    "    print(comment.content)"
   ]
  },
  {
   "cell_type": "code",
   "execution_count": null,
   "id": "7c216a76",
   "metadata": {},
   "outputs": [],
   "source": []
  }
 ],
 "metadata": {
  "hide_input": false,
  "kernelspec": {
   "display_name": "Python 3 (ipykernel)",
   "language": "python",
   "name": "python3"
  },
  "language_info": {
   "codemirror_mode": {
    "name": "ipython",
    "version": 3
   },
   "file_extension": ".py",
   "mimetype": "text/x-python",
   "name": "python",
   "nbconvert_exporter": "python",
   "pygments_lexer": "ipython3",
   "version": "3.7.9"
  },
  "latex_envs": {
   "LaTeX_envs_menu_present": true,
   "autoclose": false,
   "autocomplete": true,
   "bibliofile": "biblio.bib",
   "cite_by": "apalike",
   "current_citInitial": 1,
   "eqLabelWithNumbers": true,
   "eqNumInitial": 1,
   "hotkeys": {
    "equation": "Ctrl-E",
    "itemize": "Ctrl-I"
   },
   "labels_anchors": false,
   "latex_user_defs": false,
   "report_style_numbering": false,
   "user_envs_cfg": false
  },
  "toc": {
   "base_numbering": 1,
   "nav_menu": {},
   "number_sections": true,
   "sideBar": true,
   "skip_h1_title": false,
   "title_cell": "Table of Contents",
   "title_sidebar": "Contents",
   "toc_cell": false,
   "toc_position": {},
   "toc_section_display": true,
   "toc_window_display": false
  }
 },
 "nbformat": 4,
 "nbformat_minor": 5
}
